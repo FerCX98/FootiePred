{
 "cells": [
  {
   "cell_type": "code",
   "execution_count": 1,
   "id": "a904437b",
   "metadata": {},
   "outputs": [],
   "source": [
    "import tensorflow as tf\n",
    "from sklearn.model_selection import train_test_split\n",
    "from sklearn import preprocessing\n",
    "from scipy.io import arff\n",
    "import pandas as pd\n",
    "import numpy as np\n",
    "from sklearn.metrics import confusion_matrix\n",
    "data = arff.loadarff('dt.arff')\n",
    "df = pd.DataFrame(data[0])\n",
    "df.head()\n",
    "df=df.dropna()\n",
    "X = df.iloc[:, 0:313].astype(int)\n",
    "y = df.iloc[:, 314].astype(int)\n",
    "X_train, X_test, y_train, y_test = train_test_split(X, y, test_size=0.2, random_state=42)\n",
    "X_train = tf.convert_to_tensor(X_train)\n",
    "X_test = tf.convert_to_tensor(X_test)\n",
    "y_train = tf.convert_to_tensor(y_train)\n",
    "new_model = tf.keras.models.load_model('C:\\\\Users\\\\fercy\\\\Desktop\\\\FootiePred-main\\\\savedWeights')"
   ]
  },
  {
   "cell_type": "code",
   "execution_count": 2,
   "id": "b230b526",
   "metadata": {},
   "outputs": [
    {
     "name": "stdout",
     "output_type": "stream",
     "text": [
      "117/117 [==============================] - 0s 2ms/step - loss: 6.4070 - accuracy: 0.4118\n"
     ]
    },
    {
     "data": {
      "text/plain": [
       "[6.406977653503418, 0.411843866109848]"
      ]
     },
     "execution_count": 2,
     "metadata": {},
     "output_type": "execute_result"
    }
   ],
   "source": [
    "new_model.evaluate(X_test,y_test)"
   ]
  },
  {
   "cell_type": "code",
   "execution_count": 3,
   "id": "dbe4a78d",
   "metadata": {},
   "outputs": [
    {
     "name": "stdout",
     "output_type": "stream",
     "text": [
      "117/117 [==============================] - 0s 2ms/step\n"
     ]
    }
   ],
   "source": [
    "indec=0\n",
    "prds = new_model.predict(X_test)\n",
    "i=0\n",
    "zero=0\n",
    "zerobutone=0\n",
    "zerobuttwo=0\n",
    "one=0\n",
    "onebutzero=0\n",
    "onebuttwo=0\n",
    "two=0\n",
    "twobutzero=0\n",
    "twobutone=0\n",
    "for c in prds:\n",
    "    if c[0] > c[1] and c[0] > c[2]:\n",
    "        if y_test.iloc[i] == 0:\n",
    "            zero=zero+1\n",
    "        elif y_test.iloc[i] == 1:\n",
    "            zerobutone=zerobutone+1\n",
    "        elif y_test.iloc[i] == 2:\n",
    "            zerobuttwo=zerobuttwo+1\n",
    "    elif c[1] > c[0] and c[1] > c[2]:\n",
    "        if y_test.iloc[i] == 0:\n",
    "            onebutzero=onebutzero+1\n",
    "        elif y_test.iloc[i] == 1:\n",
    "            one=one+1\n",
    "        elif y_test.iloc[i] == 2:\n",
    "            onebuttwo=onebuttwo+1\n",
    "    elif c[2] > c[1] and c[2] > c[0]:\n",
    "        if y_test.iloc[i] == 0:\n",
    "            twobutzero=twobutzero+1\n",
    "        elif y_test.iloc[i] == 1:\n",
    "            twobutone=twobutone+1\n",
    "        elif y_test.iloc[i] == 2:\n",
    "            two=two+1\n",
    "    else:\n",
    "        indec=indec+1\n",
    "    i=i+1\n"
   ]
  },
  {
   "cell_type": "code",
   "execution_count": 8,
   "id": "a62b885a",
   "metadata": {},
   "outputs": [
    {
     "name": "stdout",
     "output_type": "stream",
     "text": [
      "       Draw    Home    Away\n",
      "\n",
      "Draw    250    411    271\n",
      "\n",
      "Home    414    870    414\n",
      "\n",
      "Away    276    399    410\n"
     ]
    }
   ],
   "source": [
    "print(\"      \",\"Draw    Home    Away\")\n",
    "print()\n",
    "print(\"Draw\",\"  \",zero, \"  \", zerobutone, \"  \", zerobuttwo)\n",
    "print()\n",
    "print(\"Home\",\"  \",onebutzero, \"  \", one , \"  \", onebuttwo)\n",
    "print()\n",
    "print(\"Away\",\"  \",twobutzero, \"  \", twobutone , \"  \", two)"
   ]
  },
  {
   "cell_type": "code",
   "execution_count": 5,
   "id": "6235bba5",
   "metadata": {},
   "outputs": [
    {
     "name": "stdout",
     "output_type": "stream",
     "text": [
      "0\n",
      "3715\n"
     ]
    }
   ],
   "source": [
    "print(indec)\n",
    "print(len(prds))"
   ]
  },
  {
   "cell_type": "code",
   "execution_count": 6,
   "id": "ae00e2cc",
   "metadata": {},
   "outputs": [
    {
     "data": {
      "text/plain": [
       "array([9.8955464e-01, 1.0444506e-02, 8.0201011e-07], dtype=float32)"
      ]
     },
     "execution_count": 6,
     "metadata": {},
     "output_type": "execute_result"
    }
   ],
   "source": []
  },
  {
   "cell_type": "code",
   "execution_count": null,
   "id": "a040d499",
   "metadata": {},
   "outputs": [],
   "source": []
  }
 ],
 "metadata": {
  "kernelspec": {
   "display_name": "Python 3 (ipykernel)",
   "language": "python",
   "name": "python3"
  },
  "language_info": {
   "codemirror_mode": {
    "name": "ipython",
    "version": 3
   },
   "file_extension": ".py",
   "mimetype": "text/x-python",
   "name": "python",
   "nbconvert_exporter": "python",
   "pygments_lexer": "ipython3",
   "version": "3.10.1"
  }
 },
 "nbformat": 4,
 "nbformat_minor": 5
}
